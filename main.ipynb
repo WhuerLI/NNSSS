{
 "cells": [
  {
   "cell_type": "markdown",
   "metadata": {},
   "source": [
    "# GENERAL USAGE EXAMPLE\n",
    "This is a simple example of how to use the DataGenerator, ModelWrapper and Tester classes to train and test the system. Please refer to each class file and to the example_* Jupyter Notebooks for more information."
   ]
  },
  {
   "cell_type": "markdown",
   "metadata": {},
   "source": [
    "### Import the required classes and auxiliary libraries"
   ]
  },
  {
   "cell_type": "code",
   "execution_count": 1,
   "metadata": {},
   "outputs": [
    {
     "name": "stderr",
     "output_type": "stream",
     "text": [
      "Using TensorFlow backend.\n"
     ]
    }
   ],
   "source": [
    "from datagenerator import DataGenerator\n",
    "from modelwrapper import ModelWrapper\n",
    "from tester import Tester\n",
    "import matplotlib.pyplot as plt"
   ]
  },
  {
   "cell_type": "markdown",
   "metadata": {},
   "source": [
    "### Create the data generators\n",
    "Note that train and validation generators are DataGenerators, since ModelWrapper requires so. For testing with the Tester, the transect ID is directly used. This makes testing easier.\n",
    "\n",
    "ModelWrapper also includes a wrapper for the Keras evaluate method that works with data generators. See example_modelwrapper for more info."
   ]
  },
  {
   "cell_type": "code",
   "execution_count": 2,
   "metadata": {},
   "outputs": [],
   "source": [
    "trainGenerator=DataGenerator('DATASET/DATA','DATASET/GT',transectList=[0,1,2,3,4,5,6,7],doRandomize=True)\n",
    "valGenerator=DataGenerator('DATASET/DATA','DATASET/GT',transectList=[9],doRandomize=False)\n",
    "testTransectNum=8"
   ]
  },
  {
   "cell_type": "markdown",
   "metadata": {},
   "source": [
    "### Create and train the model\n",
    "Only 10 epochs are used in this example. Feel free to change the number of epochs and experiment."
   ]
  },
  {
   "cell_type": "code",
   "execution_count": 3,
   "metadata": {
    "scrolled": true
   },
   "outputs": [
    {
     "name": "stdout",
     "output_type": "stream",
     "text": [
      "WARNING:tensorflow:From /usr/local/lib/python3.5/dist-packages/tensorflow/python/framework/op_def_library.py:263: colocate_with (from tensorflow.python.framework.ops) is deprecated and will be removed in a future version.\n",
      "Instructions for updating:\n",
      "Colocations handled automatically by placer.\n",
      "WARNING:tensorflow:From /usr/local/lib/python3.5/dist-packages/tensorflow/python/ops/math_ops.py:3066: to_int32 (from tensorflow.python.ops.math_ops) is deprecated and will be removed in a future version.\n",
      "Instructions for updating:\n",
      "Use tf.cast instead.\n",
      "WARNING:tensorflow:From /usr/local/lib/python3.5/dist-packages/tensorflow/python/ops/math_grad.py:102: div (from tensorflow.python.ops.math_ops) is deprecated and will be removed in a future version.\n",
      "Instructions for updating:\n",
      "Deprecated in favor of operator or tf.math.divide.\n",
      "Epoch 1/10\n",
      "96/96 [==============================] - 14s 147ms/step - loss: 0.8368 - acc: 0.6965 - val_loss: 0.5914 - val_acc: 0.7962\n",
      "Epoch 2/10\n",
      "96/96 [==============================] - 14s 144ms/step - loss: 0.4828 - acc: 0.7919 - val_loss: 0.5498 - val_acc: 0.8067\n",
      "Epoch 3/10\n",
      "96/96 [==============================] - 14s 144ms/step - loss: 0.4219 - acc: 0.8349 - val_loss: 0.4878 - val_acc: 0.8046\n",
      "Epoch 4/10\n",
      "96/96 [==============================] - 14s 142ms/step - loss: 0.3658 - acc: 0.8574 - val_loss: 0.4286 - val_acc: 0.8373\n",
      "Epoch 5/10\n",
      "96/96 [==============================] - 14s 144ms/step - loss: 0.3295 - acc: 0.8707 - val_loss: 0.4222 - val_acc: 0.8492\n",
      "Epoch 6/10\n",
      "96/96 [==============================] - 14s 142ms/step - loss: 0.2948 - acc: 0.8863 - val_loss: 0.3777 - val_acc: 0.8618\n",
      "Epoch 7/10\n",
      "96/96 [==============================] - 14s 144ms/step - loss: 0.2838 - acc: 0.8907 - val_loss: 0.4323 - val_acc: 0.8508\n",
      "Epoch 8/10\n",
      "96/96 [==============================] - 14s 142ms/step - loss: 0.2726 - acc: 0.8955 - val_loss: 0.4054 - val_acc: 0.8584\n",
      "Epoch 9/10\n",
      "96/96 [==============================] - 13s 140ms/step - loss: 0.2708 - acc: 0.8967 - val_loss: 0.3575 - val_acc: 0.8703\n",
      "Epoch 10/10\n",
      "96/96 [==============================] - 14s 144ms/step - loss: 0.2683 - acc: 0.8964 - val_loss: 0.3493 - val_acc: 0.8757\n"
     ]
    }
   ],
   "source": [
    "theModel=ModelWrapper()\n",
    "theModel.create()\n",
    "theModel.train(trainGenerator,valGenerator,10)"
   ]
  },
  {
   "cell_type": "markdown",
   "metadata": {},
   "source": [
    "### Create a tester object\n",
    "The parameter theModel is the ModelWrapper to test. There are more parameters which are, in this case, left to their default values."
   ]
  },
  {
   "cell_type": "code",
   "execution_count": 4,
   "metadata": {},
   "outputs": [],
   "source": [
    "theTester=Tester(theModel)"
   ]
  },
  {
   "cell_type": "markdown",
   "metadata": {},
   "source": [
    "### Evaluate the test informative image\n",
    "Only confusion matrix and accuracy are returned. Precision, recall, F1-Score, ... and their per-class variants can be easily computed from the confusion matrix."
   ]
  },
  {
   "cell_type": "code",
   "execution_count": 5,
   "metadata": {},
   "outputs": [],
   "source": [
    "confusionMatrix,theAccuracy=theTester.evaluate(testTransectNum)"
   ]
  },
  {
   "cell_type": "markdown",
   "metadata": {},
   "source": [
    "### Print the results\n",
    "A good accuracy is obtained even with such a short number of epochs."
   ]
  },
  {
   "cell_type": "code",
   "execution_count": 6,
   "metadata": {
    "scrolled": true
   },
   "outputs": [
    {
     "name": "stdout",
     "output_type": "stream",
     "text": [
      "* CONFUSION MATRIX :\n",
      "[[ 47513   8775   3477]\n",
      " [  2250 130575   1298]\n",
      " [   428   3780  11977]]\n",
      "* ACCURACY : 0.90\n"
     ]
    }
   ],
   "source": [
    "print('* CONFUSION MATRIX :')\n",
    "print(confusionMatrix)\n",
    "print('* ACCURACY : %.2f' % theAccuracy)"
   ]
  },
  {
   "cell_type": "markdown",
   "metadata": {},
   "source": [
    "### Segment the test informative image"
   ]
  },
  {
   "cell_type": "code",
   "execution_count": 7,
   "metadata": {},
   "outputs": [],
   "source": [
    "theSegmented,theGT,theTransect=theTester.segment(testTransectNum)"
   ]
  },
  {
   "cell_type": "markdown",
   "metadata": {},
   "source": [
    "### Plot the segmentation results\n",
    "First row is the SSS data. Second row is the ground truth. Third row is the segmented image.\n",
    "Tester includes methods to evaluate and plot whole acoustic images involving two informative images (port and starboard). See example_tester.ipynb and Tester.py for more information."
   ]
  },
  {
   "cell_type": "code",
   "execution_count": 8,
   "metadata": {},
   "outputs": [
    {
     "data": {
      "image/png": "[encoded data removed]",
      "text/plain": [
       "<Figure size 432x288 with 1 Axes>"
      ]
     },
     "metadata": {},
     "output_type": "display_data"
    },
    {
     "data": {
      "image/png": "[encoded data removed]",
      "text/plain": [
       "<Figure size 432x288 with 1 Axes>"
      ]
     },
     "metadata": {},
     "output_type": "display_data"
    },
    {
     "data": {
      "image/png": "[encoded data removed]",
      "text/plain": [
       "<Figure size 432x288 with 1 Axes>"
      ]
     },
     "metadata": {},
     "output_type": "display_data"
    }
   ],
   "source": [
    "plt.imshow(theTransect,cmap='gray',vmin=0,vmax=1)\n",
    "plt.show()\n",
    "plt.imshow(theGT)\n",
    "plt.show()\n",
    "plt.imshow(theSegmented)\n",
    "plt.show()"
   ]
  }
 ],
 "metadata": {
  "kernelspec": {
   "display_name": "Python 3",
   "language": "python",
   "name": "python3"
  },
  "language_info": {
   "codemirror_mode": {
    "name": "ipython",
    "version": 3
   },
   "file_extension": ".py",
   "mimetype": "text/x-python",
   "name": "python",
   "nbconvert_exporter": "python",
   "pygments_lexer": "ipython3",
   "version": "3.5.2"
  }
 },
 "nbformat": 4,
 "nbformat_minor": 2
}
